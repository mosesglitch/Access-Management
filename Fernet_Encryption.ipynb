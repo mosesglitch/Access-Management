{
 "cells": [
  {
   "cell_type": "markdown",
   "metadata": {
    "graffitiCellId": "id_wdug686"
   },
   "source": [
    "> TIP: Remember, code with dotted lines has a tool tip and voice walkthrough!"
   ]
  },
  {
   "cell_type": "code",
   "execution_count": null,
   "metadata": {
    "graffitiCellId": "id_hy3x04l"
   },
   "outputs": [],
   "source": [
    "# Import Package\n",
    "from cryptography.fernet import Fernet"
   ]
  },
  {
   "cell_type": "code",
   "execution_count": null,
   "metadata": {
    "graffitiCellId": "id_ojhrtp0"
   },
   "outputs": [],
   "source": [
    "# Generate a Key and Instantiate a Fernet Instance\n",
    "key = Fernet.generate_key()\n",
    "f = Fernet(key)\n",
    "print(key)"
   ]
  },
  {
   "cell_type": "code",
   "execution_count": null,
   "metadata": {
    "graffitiCellId": "id_6c7hjw4"
   },
   "outputs": [],
   "source": [
    "# Define our message\n",
    "plaintext = b\"encryption is very useful\""
   ]
  },
  {
   "cell_type": "code",
   "execution_count": null,
   "metadata": {
    "graffitiCellId": "id_595rfih"
   },
   "outputs": [],
   "source": [
    "# Encrypt\n",
    "ciphertext = f.encrypt(plaintext)\n",
    "print(ciphertext)"
   ]
  },
  {
   "cell_type": "code",
   "execution_count": null,
   "metadata": {
    "graffitiCellId": "id_v8jg1f4"
   },
   "outputs": [],
   "source": [
    "# Decrypt\n",
    "decryptedtext = f.decrypt(ciphertext)\n",
    "print(decryptedtext)"
   ]
  }
 ],
 "metadata": {
  "graffiti": {
   "firstAuthorId": "10489997357",
   "id": "id_10h5nnh",
   "language": "EN"
  },
  "kernelspec": {
   "display_name": "Python 3",
   "language": "python",
   "name": "python3"
  },
  "language_info": {
   "codemirror_mode": {
    "name": "ipython",
    "version": 3
   },
   "file_extension": ".py",
   "mimetype": "text/x-python",
   "name": "python",
   "nbconvert_exporter": "python",
   "pygments_lexer": "ipython3",
   "version": "3.6.3"
  }
 },
 "nbformat": 4,
 "nbformat_minor": 2
}
